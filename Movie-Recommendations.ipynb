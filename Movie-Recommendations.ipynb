{
 "cells": [
  {
   "cell_type": "markdown",
   "metadata": {},
   "source": [
    "# Recommendation system for movies"
   ]
  },
  {
   "cell_type": "code",
   "execution_count": 1,
   "metadata": {},
   "outputs": [],
   "source": [
    "# Activate auto reload features\n",
    "\n",
    "%load_ext autoreload\n",
    "%autoreload 2\n"
   ]
  },
  {
   "cell_type": "markdown",
   "metadata": {},
   "source": [
    "## 1. Prepare data"
   ]
  },
  {
   "cell_type": "code",
   "execution_count": 2,
   "metadata": {},
   "outputs": [],
   "source": [
    "import pandas as pd\n",
    "import os"
   ]
  },
  {
   "cell_type": "markdown",
   "metadata": {},
   "source": [
    "### Load the csv rating data"
   ]
  },
  {
   "cell_type": "code",
   "execution_count": 6,
   "metadata": {},
   "outputs": [],
   "source": [
    "DATA_DIRECTORY = 'data'\n",
    "CSV_PATH = os.path.join(DATA_DIRECTORY, 'ratings.csv')\n",
    "rating_data = pd.read_csv(CSV_PATH)"
   ]
  },
  {
   "cell_type": "markdown",
   "metadata": {},
   "source": [
    "### Preview the data"
   ]
  },
  {
   "cell_type": "code",
   "execution_count": 7,
   "metadata": {},
   "outputs": [
    {
     "data": {
      "text/html": [
       "<div>\n",
       "<style scoped>\n",
       "    .dataframe tbody tr th:only-of-type {\n",
       "        vertical-align: middle;\n",
       "    }\n",
       "\n",
       "    .dataframe tbody tr th {\n",
       "        vertical-align: top;\n",
       "    }\n",
       "\n",
       "    .dataframe thead th {\n",
       "        text-align: right;\n",
       "    }\n",
       "</style>\n",
       "<table border=\"1\" class=\"dataframe\">\n",
       "  <thead>\n",
       "    <tr style=\"text-align: right;\">\n",
       "      <th></th>\n",
       "      <th>userId</th>\n",
       "      <th>movieId</th>\n",
       "      <th>rating</th>\n",
       "      <th>timestamp</th>\n",
       "    </tr>\n",
       "  </thead>\n",
       "  <tbody>\n",
       "    <tr>\n",
       "      <th>0</th>\n",
       "      <td>1</td>\n",
       "      <td>31</td>\n",
       "      <td>2.5</td>\n",
       "      <td>1260759144</td>\n",
       "    </tr>\n",
       "    <tr>\n",
       "      <th>1</th>\n",
       "      <td>1</td>\n",
       "      <td>1029</td>\n",
       "      <td>3.0</td>\n",
       "      <td>1260759179</td>\n",
       "    </tr>\n",
       "    <tr>\n",
       "      <th>2</th>\n",
       "      <td>1</td>\n",
       "      <td>1061</td>\n",
       "      <td>3.0</td>\n",
       "      <td>1260759182</td>\n",
       "    </tr>\n",
       "    <tr>\n",
       "      <th>3</th>\n",
       "      <td>1</td>\n",
       "      <td>1129</td>\n",
       "      <td>2.0</td>\n",
       "      <td>1260759185</td>\n",
       "    </tr>\n",
       "    <tr>\n",
       "      <th>4</th>\n",
       "      <td>1</td>\n",
       "      <td>1172</td>\n",
       "      <td>4.0</td>\n",
       "      <td>1260759205</td>\n",
       "    </tr>\n",
       "  </tbody>\n",
       "</table>\n",
       "</div>"
      ],
      "text/plain": [
       "   userId  movieId  rating   timestamp\n",
       "0       1       31     2.5  1260759144\n",
       "1       1     1029     3.0  1260759179\n",
       "2       1     1061     3.0  1260759182\n",
       "3       1     1129     2.0  1260759185\n",
       "4       1     1172     4.0  1260759205"
      ]
     },
     "execution_count": 7,
     "metadata": {},
     "output_type": "execute_result"
    }
   ],
   "source": [
    "rating_data.head()"
   ]
  },
  {
   "cell_type": "code",
   "execution_count": 8,
   "metadata": {},
   "outputs": [
    {
     "name": "stdout",
     "output_type": "stream",
     "text": [
      "<class 'pandas.core.frame.DataFrame'>\n",
      "RangeIndex: 100004 entries, 0 to 100003\n",
      "Data columns (total 4 columns):\n",
      "userId       100004 non-null int64\n",
      "movieId      100004 non-null int64\n",
      "rating       100004 non-null float64\n",
      "timestamp    100004 non-null int64\n",
      "dtypes: float64(1), int64(3)\n",
      "memory usage: 3.1 MB\n"
     ]
    }
   ],
   "source": [
    "rating_data.info()"
   ]
  },
  {
   "cell_type": "markdown",
   "metadata": {},
   "source": [
    "### Here you will work on preparing the data"
   ]
  },
  {
   "cell_type": "markdown",
   "metadata": {},
   "source": [
    "#### For example:\n",
    "1. Check for invalid values such as nulls, NaNs.\n",
    "2. Decide what to do with any invalid value them, Delete them? fill them with something as the mean value?\n",
    "3. Transform data in anyway needed"
   ]
  },
  {
   "cell_type": "code",
   "execution_count": 53,
   "metadata": {},
   "outputs": [],
   "source": [
    "# Drop timestamp column\n",
    "rating_data = rating_data.drop(columns=['timestamp', ])"
   ]
  },
  {
   "cell_type": "markdown",
   "metadata": {},
   "source": [
    "### Examine data"
   ]
  },
  {
   "cell_type": "markdown",
   "metadata": {},
   "source": [
    "#### How many records?"
   ]
  },
  {
   "cell_type": "code",
   "execution_count": 11,
   "metadata": {},
   "outputs": [
    {
     "data": {
      "text/plain": [
       "100004"
      ]
     },
     "execution_count": 11,
     "metadata": {},
     "output_type": "execute_result"
    }
   ],
   "source": [
    "len(rating_data)"
   ]
  },
  {
   "cell_type": "markdown",
   "metadata": {},
   "source": [
    "#### How many unique users are there?"
   ]
  },
  {
   "cell_type": "code",
   "execution_count": 9,
   "metadata": {},
   "outputs": [
    {
     "data": {
      "text/plain": [
       "671"
      ]
     },
     "execution_count": 9,
     "metadata": {},
     "output_type": "execute_result"
    }
   ],
   "source": [
    "len(pd.unique(rating_data['userId']))"
   ]
  },
  {
   "cell_type": "markdown",
   "metadata": {},
   "source": [
    "#### How many unique movies are there?"
   ]
  },
  {
   "cell_type": "code",
   "execution_count": 12,
   "metadata": {},
   "outputs": [
    {
     "data": {
      "text/plain": [
       "9066"
      ]
     },
     "execution_count": 12,
     "metadata": {},
     "output_type": "execute_result"
    }
   ],
   "source": [
    "len(pd.unique(rating_data['movieId']))"
   ]
  },
  {
   "cell_type": "markdown",
   "metadata": {},
   "source": [
    "### Load the CSV Movie Metadata"
   ]
  },
  {
   "cell_type": "code",
   "execution_count": 20,
   "metadata": {},
   "outputs": [],
   "source": [
    "CSV_META_PATH = os.path.join(DATA_DIRECTORY, 'movies.csv')\n",
    "metadata = pd.read_csv(CSV_META_PATH, index_col=0)"
   ]
  },
  {
   "cell_type": "markdown",
   "metadata": {},
   "source": [
    "#### Preview Movie Metada"
   ]
  },
  {
   "cell_type": "code",
   "execution_count": 21,
   "metadata": {},
   "outputs": [
    {
     "data": {
      "text/html": [
       "<div>\n",
       "<style scoped>\n",
       "    .dataframe tbody tr th:only-of-type {\n",
       "        vertical-align: middle;\n",
       "    }\n",
       "\n",
       "    .dataframe tbody tr th {\n",
       "        vertical-align: top;\n",
       "    }\n",
       "\n",
       "    .dataframe thead th {\n",
       "        text-align: right;\n",
       "    }\n",
       "</style>\n",
       "<table border=\"1\" class=\"dataframe\">\n",
       "  <thead>\n",
       "    <tr style=\"text-align: right;\">\n",
       "      <th></th>\n",
       "      <th>title</th>\n",
       "      <th>genres</th>\n",
       "    </tr>\n",
       "    <tr>\n",
       "      <th>movieId</th>\n",
       "      <th></th>\n",
       "      <th></th>\n",
       "    </tr>\n",
       "  </thead>\n",
       "  <tbody>\n",
       "    <tr>\n",
       "      <th>1</th>\n",
       "      <td>Toy Story (1995)</td>\n",
       "      <td>Adventure|Animation|Children|Comedy|Fantasy</td>\n",
       "    </tr>\n",
       "    <tr>\n",
       "      <th>2</th>\n",
       "      <td>Jumanji (1995)</td>\n",
       "      <td>Adventure|Children|Fantasy</td>\n",
       "    </tr>\n",
       "    <tr>\n",
       "      <th>3</th>\n",
       "      <td>Grumpier Old Men (1995)</td>\n",
       "      <td>Comedy|Romance</td>\n",
       "    </tr>\n",
       "    <tr>\n",
       "      <th>4</th>\n",
       "      <td>Waiting to Exhale (1995)</td>\n",
       "      <td>Comedy|Drama|Romance</td>\n",
       "    </tr>\n",
       "    <tr>\n",
       "      <th>5</th>\n",
       "      <td>Father of the Bride Part II (1995)</td>\n",
       "      <td>Comedy</td>\n",
       "    </tr>\n",
       "  </tbody>\n",
       "</table>\n",
       "</div>"
      ],
      "text/plain": [
       "                                      title  \\\n",
       "movieId                                       \n",
       "1                          Toy Story (1995)   \n",
       "2                            Jumanji (1995)   \n",
       "3                   Grumpier Old Men (1995)   \n",
       "4                  Waiting to Exhale (1995)   \n",
       "5        Father of the Bride Part II (1995)   \n",
       "\n",
       "                                              genres  \n",
       "movieId                                               \n",
       "1        Adventure|Animation|Children|Comedy|Fantasy  \n",
       "2                         Adventure|Children|Fantasy  \n",
       "3                                     Comedy|Romance  \n",
       "4                               Comedy|Drama|Romance  \n",
       "5                                             Comedy  "
      ]
     },
     "execution_count": 21,
     "metadata": {},
     "output_type": "execute_result"
    }
   ],
   "source": [
    "metadata.head()"
   ]
  },
  {
   "cell_type": "code",
   "execution_count": 22,
   "metadata": {},
   "outputs": [
    {
     "name": "stdout",
     "output_type": "stream",
     "text": [
      "<class 'pandas.core.frame.DataFrame'>\n",
      "Int64Index: 9125 entries, 1 to 164979\n",
      "Data columns (total 2 columns):\n",
      "title     9125 non-null object\n",
      "genres    9125 non-null object\n",
      "dtypes: object(2)\n",
      "memory usage: 213.9+ KB\n"
     ]
    }
   ],
   "source": [
    "metadata.info()"
   ]
  },
  {
   "cell_type": "markdown",
   "metadata": {},
   "source": [
    "### Function to extract movie metadata"
   ]
  },
  {
   "cell_type": "code",
   "execution_count": 23,
   "metadata": {},
   "outputs": [],
   "source": [
    "def movie_meta(movie_id):\n",
    "    title = metadata.at[movie_id, 'title']\n",
    "    genres = metadata.at[movie_id, 'genres']\n",
    "    return title, genres,"
   ]
  },
  {
   "cell_type": "code",
   "execution_count": 25,
   "metadata": {},
   "outputs": [
    {
     "data": {
      "text/plain": [
       "('Jumanji (1995)', 'Adventure|Children|Fantasy')"
      ]
     },
     "execution_count": 25,
     "metadata": {},
     "output_type": "execute_result"
    }
   ],
   "source": [
    "movie_meta(2)"
   ]
  },
  {
   "cell_type": "markdown",
   "metadata": {},
   "source": [
    "#### Function to get top_n most rated skills for an specific user id"
   ]
  },
  {
   "cell_type": "code",
   "execution_count": 64,
   "metadata": {},
   "outputs": [],
   "source": [
    "def favorite_movies(user_id, top_n_fav):\n",
    "    device_ratings = rating_data.loc[rating_data['userId'] == user_id]\n",
    "    sorted_ratings = pd.DataFrame.sort_values(rating_data, ['rating'], ascending=[0])[:top_n_fav]\n",
    "    sorted_ratings['MetaData'] = sorted_ratings['movieId'].apply(movie_meta)\n",
    "    return sorted_ratings"
   ]
  },
  {
   "cell_type": "code",
   "execution_count": 37,
   "metadata": {},
   "outputs": [
    {
     "data": {
      "text/html": [
       "<div>\n",
       "<style scoped>\n",
       "    .dataframe tbody tr th:only-of-type {\n",
       "        vertical-align: middle;\n",
       "    }\n",
       "\n",
       "    .dataframe tbody tr th {\n",
       "        vertical-align: top;\n",
       "    }\n",
       "\n",
       "    .dataframe thead th {\n",
       "        text-align: right;\n",
       "    }\n",
       "</style>\n",
       "<table border=\"1\" class=\"dataframe\">\n",
       "  <thead>\n",
       "    <tr style=\"text-align: right;\">\n",
       "      <th></th>\n",
       "      <th>userId</th>\n",
       "      <th>movieId</th>\n",
       "      <th>rating</th>\n",
       "      <th>timestamp</th>\n",
       "      <th>MetaData</th>\n",
       "    </tr>\n",
       "  </thead>\n",
       "  <tbody>\n",
       "    <tr>\n",
       "      <th>33889</th>\n",
       "      <td>242</td>\n",
       "      <td>2929</td>\n",
       "      <td>5.0</td>\n",
       "      <td>956687566</td>\n",
       "      <td>(Reds (1981), Drama|Romance)</td>\n",
       "    </tr>\n",
       "    <tr>\n",
       "      <th>36867</th>\n",
       "      <td>265</td>\n",
       "      <td>1233</td>\n",
       "      <td>5.0</td>\n",
       "      <td>960056214</td>\n",
       "      <td>(Boot, Das (Boat, The) (1981), Action|Drama|War)</td>\n",
       "    </tr>\n",
       "    <tr>\n",
       "      <th>46251</th>\n",
       "      <td>337</td>\n",
       "      <td>1356</td>\n",
       "      <td>5.0</td>\n",
       "      <td>1447176421</td>\n",
       "      <td>(Star Trek: First Contact (1996), Action|Adven...</td>\n",
       "    </tr>\n",
       "  </tbody>\n",
       "</table>\n",
       "</div>"
      ],
      "text/plain": [
       "       userId  movieId  rating   timestamp  \\\n",
       "33889     242     2929     5.0   956687566   \n",
       "36867     265     1233     5.0   960056214   \n",
       "46251     337     1356     5.0  1447176421   \n",
       "\n",
       "                                                MetaData  \n",
       "33889                       (Reds (1981), Drama|Romance)  \n",
       "36867   (Boot, Das (Boat, The) (1981), Action|Drama|War)  \n",
       "46251  (Star Trek: First Contact (1996), Action|Adven...  "
      ]
     },
     "execution_count": 37,
     "metadata": {},
     "output_type": "execute_result"
    }
   ],
   "source": [
    "favorite_movies(85, 3)"
   ]
  },
  {
   "cell_type": "markdown",
   "metadata": {},
   "source": [
    "####  Most rated movies by user (Rate count)"
   ]
  },
  {
   "cell_type": "code",
   "execution_count": 39,
   "metadata": {},
   "outputs": [
    {
     "data": {
      "text/plain": [
       "(Forrest Gump (1994), Comedy|Drama|Romance|War)                                     341\n",
       "(Pulp Fiction (1994), Comedy|Crime|Drama|Thriller)                                  324\n",
       "(Shawshank Redemption, The (1994), Crime|Drama)                                     311\n",
       "(Silence of the Lambs, The (1991), Crime|Horror|Thriller)                           304\n",
       "(Star Wars: Episode IV - A New Hope (1977), Action|Adventure|Sci-Fi)                291\n",
       "(Jurassic Park (1993), Action|Adventure|Sci-Fi|Thriller)                            274\n",
       "(Matrix, The (1999), Action|Sci-Fi|Thriller)                                        259\n",
       "(Toy Story (1995), Adventure|Animation|Children|Comedy|Fantasy)                     247\n",
       "(Schindler's List (1993), Drama|War)                                                244\n",
       "(Terminator 2: Judgment Day (1991), Action|Sci-Fi)                                  237\n",
       "(Star Wars: Episode V - The Empire Strikes Back (1980), Action|Adventure|Sci-Fi)    234\n",
       "(Braveheart (1995), Action|Drama|War)                                               228\n",
       "(Back to the Future (1985), Adventure|Comedy|Sci-Fi)                                226\n",
       "(Fargo (1996), Comedy|Crime|Drama|Thriller)                                         224\n",
       "(American Beauty (1999), Drama|Romance)                                             220\n",
       "Name: movieId, dtype: int64"
      ]
     },
     "execution_count": 39,
     "metadata": {},
     "output_type": "execute_result"
    }
   ],
   "source": [
    "movies_per_user = rating_data['movieId'].value_counts()\n",
    "# Just for preview the name instead of the Skill Id\n",
    "rating_data['movieId'].apply(movie_meta).value_counts().head(15)"
   ]
  },
  {
   "cell_type": "markdown",
   "metadata": {},
   "source": [
    "#### Users that has rated more movies"
   ]
  },
  {
   "cell_type": "code",
   "execution_count": 40,
   "metadata": {},
   "outputs": [
    {
     "data": {
      "text/plain": [
       "547    2391\n",
       "564    1868\n",
       "624    1735\n",
       "15     1700\n",
       "73     1610\n",
       "452    1340\n",
       "468    1291\n",
       "380    1063\n",
       "311    1019\n",
       "30     1011\n",
       "294     947\n",
       "509     923\n",
       "580     922\n",
       "213     910\n",
       "212     876\n",
       "Name: userId, dtype: int64"
      ]
     },
     "execution_count": 40,
     "metadata": {},
     "output_type": "execute_result"
    }
   ],
   "source": [
    "user_per_movie = rating_data['userId'].value_counts()\n",
    "user_per_movie.head(15)"
   ]
  },
  {
   "cell_type": "markdown",
   "metadata": {},
   "source": [
    "#### Optional: Consider cleaning the data by removing users or movies that does not have much rate data"
   ]
  },
  {
   "cell_type": "code",
   "execution_count": 45,
   "metadata": {},
   "outputs": [],
   "source": [
    "REQUIRED_RATINGS = 5\n",
    "# Only Skills that have been rated more than REQUIRED_RATING times\n",
    "rating_data = rating_data.loc[rating_data['movieId'].isin(movies_per_user[movies_per_user >= REQUIRED_RATINGS].index)]"
   ]
  },
  {
   "cell_type": "code",
   "execution_count": 47,
   "metadata": {},
   "outputs": [],
   "source": [
    "rating_data = rating_data.loc[rating_data['userId'].isin(user_per_movie[user_per_movie >= REQUIRED_RATINGS].index)]"
   ]
  },
  {
   "cell_type": "markdown",
   "metadata": {},
   "source": [
    "## 2. Train model with rating data"
   ]
  },
  {
   "cell_type": "code",
   "execution_count": 56,
   "metadata": {},
   "outputs": [],
   "source": [
    "reader = Reader()\n",
    "rating_dataset = Dataset.load_from_df(rating_data, reader=reader)\n",
    "train_set = rating_dataset.build_full_trainset()"
   ]
  },
  {
   "cell_type": "code",
   "execution_count": 60,
   "metadata": {},
   "outputs": [],
   "source": [
    "from models import KnnUB, KnnIB, SVDRecommender\n",
    "\n",
    "user_based_model = KnnUB()\n",
    "movies_base_model = KnnIB()\n",
    "svd_base_model = SVDRecommender()"
   ]
  },
  {
   "cell_type": "code",
   "execution_count": 61,
   "metadata": {},
   "outputs": [
    {
     "name": "stdout",
     "output_type": "stream",
     "text": [
      "Computing the cosine similarity matrix...\n",
      "Done computing similarity matrix.\n"
     ]
    },
    {
     "data": {
      "text/plain": [
       "<models.KnnUB at 0x19846e5d048>"
      ]
     },
     "execution_count": 61,
     "metadata": {},
     "output_type": "execute_result"
    }
   ],
   "source": [
    "user_based_model.fit(train_set)"
   ]
  },
  {
   "cell_type": "code",
   "execution_count": 62,
   "metadata": {},
   "outputs": [
    {
     "name": "stdout",
     "output_type": "stream",
     "text": [
      "Computing the cosine similarity matrix...\n",
      "Done computing similarity matrix.\n"
     ]
    },
    {
     "data": {
      "text/plain": [
       "<models.KnnIB at 0x19846e5d080>"
      ]
     },
     "execution_count": 62,
     "metadata": {},
     "output_type": "execute_result"
    }
   ],
   "source": [
    "movies_base_model.fit(train_set)"
   ]
  },
  {
   "cell_type": "code",
   "execution_count": 63,
   "metadata": {},
   "outputs": [
    {
     "data": {
      "text/plain": [
       "<models.SVDRecommender at 0x19846e5d0b8>"
      ]
     },
     "execution_count": 63,
     "metadata": {},
     "output_type": "execute_result"
    }
   ],
   "source": [
    "svd_base_model.fit(train_set)"
   ]
  },
  {
   "cell_type": "markdown",
   "metadata": {},
   "source": [
    "## 3. Test Model Recommendations"
   ]
  },
  {
   "cell_type": "code",
   "execution_count": 69,
   "metadata": {},
   "outputs": [
    {
     "data": {
      "text/html": [
       "<div>\n",
       "<style scoped>\n",
       "    .dataframe tbody tr th:only-of-type {\n",
       "        vertical-align: middle;\n",
       "    }\n",
       "\n",
       "    .dataframe tbody tr th {\n",
       "        vertical-align: top;\n",
       "    }\n",
       "\n",
       "    .dataframe thead th {\n",
       "        text-align: right;\n",
       "    }\n",
       "</style>\n",
       "<table border=\"1\" class=\"dataframe\">\n",
       "  <thead>\n",
       "    <tr style=\"text-align: right;\">\n",
       "      <th></th>\n",
       "      <th>userId</th>\n",
       "      <th>movieId</th>\n",
       "      <th>rating</th>\n",
       "      <th>MetaData</th>\n",
       "    </tr>\n",
       "  </thead>\n",
       "  <tbody>\n",
       "    <tr>\n",
       "      <th>59858</th>\n",
       "      <td>432</td>\n",
       "      <td>48780</td>\n",
       "      <td>5.0</td>\n",
       "      <td>(Prestige, The (2006), Drama|Mystery|Sci-Fi|Th...</td>\n",
       "    </tr>\n",
       "    <tr>\n",
       "      <th>46030</th>\n",
       "      <td>331</td>\n",
       "      <td>5991</td>\n",
       "      <td>5.0</td>\n",
       "      <td>(Chicago (2002), Comedy|Crime|Drama|Musical)</td>\n",
       "    </tr>\n",
       "    <tr>\n",
       "      <th>12584</th>\n",
       "      <td>78</td>\n",
       "      <td>38499</td>\n",
       "      <td>5.0</td>\n",
       "      <td>(Angels in America (2003), Drama|Fantasy)</td>\n",
       "    </tr>\n",
       "    <tr>\n",
       "      <th>12585</th>\n",
       "      <td>78</td>\n",
       "      <td>39183</td>\n",
       "      <td>5.0</td>\n",
       "      <td>(Brokeback Mountain (2005), Drama|Romance)</td>\n",
       "    </tr>\n",
       "    <tr>\n",
       "      <th>74200</th>\n",
       "      <td>518</td>\n",
       "      <td>593</td>\n",
       "      <td>5.0</td>\n",
       "      <td>(Silence of the Lambs, The (1991), Crime|Horro...</td>\n",
       "    </tr>\n",
       "    <tr>\n",
       "      <th>57335</th>\n",
       "      <td>415</td>\n",
       "      <td>110</td>\n",
       "      <td>5.0</td>\n",
       "      <td>(Braveheart (1995), Action|Drama|War)</td>\n",
       "    </tr>\n",
       "    <tr>\n",
       "      <th>89007</th>\n",
       "      <td>592</td>\n",
       "      <td>3948</td>\n",
       "      <td>5.0</td>\n",
       "      <td>(Meet the Parents (2000), Comedy)</td>\n",
       "    </tr>\n",
       "    <tr>\n",
       "      <th>46031</th>\n",
       "      <td>331</td>\n",
       "      <td>52975</td>\n",
       "      <td>5.0</td>\n",
       "      <td>(Hairspray (2007), Comedy|Drama|Musical)</td>\n",
       "    </tr>\n",
       "    <tr>\n",
       "      <th>12591</th>\n",
       "      <td>78</td>\n",
       "      <td>46723</td>\n",
       "      <td>5.0</td>\n",
       "      <td>(Babel (2006), Drama|Thriller)</td>\n",
       "    </tr>\n",
       "    <tr>\n",
       "      <th>57334</th>\n",
       "      <td>415</td>\n",
       "      <td>50</td>\n",
       "      <td>5.0</td>\n",
       "      <td>(Usual Suspects, The (1995), Crime|Mystery|Thr...</td>\n",
       "    </tr>\n",
       "    <tr>\n",
       "      <th>25319</th>\n",
       "      <td>185</td>\n",
       "      <td>2355</td>\n",
       "      <td>5.0</td>\n",
       "      <td>(Bug's Life, A (1998), Adventure|Animation|Chi...</td>\n",
       "    </tr>\n",
       "    <tr>\n",
       "      <th>12597</th>\n",
       "      <td>78</td>\n",
       "      <td>51662</td>\n",
       "      <td>5.0</td>\n",
       "      <td>(300 (2007), Action|Fantasy|War|IMAX)</td>\n",
       "    </tr>\n",
       "    <tr>\n",
       "      <th>12598</th>\n",
       "      <td>78</td>\n",
       "      <td>51935</td>\n",
       "      <td>5.0</td>\n",
       "      <td>(Shooter (2007), Action|Drama|Thriller)</td>\n",
       "    </tr>\n",
       "    <tr>\n",
       "      <th>12599</th>\n",
       "      <td>78</td>\n",
       "      <td>52767</td>\n",
       "      <td>5.0</td>\n",
       "      <td>(21 Up (1977), Documentary)</td>\n",
       "    </tr>\n",
       "    <tr>\n",
       "      <th>12600</th>\n",
       "      <td>78</td>\n",
       "      <td>52952</td>\n",
       "      <td>5.0</td>\n",
       "      <td>(This Is England (2006), Drama)</td>\n",
       "    </tr>\n",
       "  </tbody>\n",
       "</table>\n",
       "</div>"
      ],
      "text/plain": [
       "       userId  movieId  rating  \\\n",
       "59858     432    48780     5.0   \n",
       "46030     331     5991     5.0   \n",
       "12584      78    38499     5.0   \n",
       "12585      78    39183     5.0   \n",
       "74200     518      593     5.0   \n",
       "57335     415      110     5.0   \n",
       "89007     592     3948     5.0   \n",
       "46031     331    52975     5.0   \n",
       "12591      78    46723     5.0   \n",
       "57334     415       50     5.0   \n",
       "25319     185     2355     5.0   \n",
       "12597      78    51662     5.0   \n",
       "12598      78    51935     5.0   \n",
       "12599      78    52767     5.0   \n",
       "12600      78    52952     5.0   \n",
       "\n",
       "                                                MetaData  \n",
       "59858  (Prestige, The (2006), Drama|Mystery|Sci-Fi|Th...  \n",
       "46030       (Chicago (2002), Comedy|Crime|Drama|Musical)  \n",
       "12584          (Angels in America (2003), Drama|Fantasy)  \n",
       "12585         (Brokeback Mountain (2005), Drama|Romance)  \n",
       "74200  (Silence of the Lambs, The (1991), Crime|Horro...  \n",
       "57335              (Braveheart (1995), Action|Drama|War)  \n",
       "89007                  (Meet the Parents (2000), Comedy)  \n",
       "46031           (Hairspray (2007), Comedy|Drama|Musical)  \n",
       "12591                     (Babel (2006), Drama|Thriller)  \n",
       "57334  (Usual Suspects, The (1995), Crime|Mystery|Thr...  \n",
       "25319  (Bug's Life, A (1998), Adventure|Animation|Chi...  \n",
       "12597              (300 (2007), Action|Fantasy|War|IMAX)  \n",
       "12598            (Shooter (2007), Action|Drama|Thriller)  \n",
       "12599                        (21 Up (1977), Documentary)  \n",
       "12600                    (This Is England (2006), Drama)  "
      ]
     },
     "execution_count": 69,
     "metadata": {},
     "output_type": "execute_result"
    }
   ],
   "source": [
    "n = 10\n",
    "test_user = 85\n",
    "favorite_movies(test_user, 15)"
   ]
  },
  {
   "cell_type": "markdown",
   "metadata": {},
   "source": [
    "### Test collaborative filtering based on user recommendations"
   ]
  },
  {
   "cell_type": "code",
   "execution_count": 70,
   "metadata": {},
   "outputs": [
    {
     "name": "stdout",
     "output_type": "stream",
     "text": [
      "Computing the cosine similarity matrix...\n",
      "Done computing similarity matrix.\n",
      "('Inception (2010)', 'Action|Crime|Drama|Mystery|Sci-Fi|Thriller|IMAX') 3.3\n",
      "('Star Wars: Episode V - The Empire Strikes Back (1980)', 'Action|Adventure|Sci-Fi') 2.4\n",
      "('Bourne Identity, The (1988)', 'Action|Adventure|Drama|Mystery|Thriller') 2.0\n",
      "('Crouching Tiger, Hidden Dragon (Wo hu cang long) (2000)', 'Action|Drama|Romance') 2.0\n",
      "('Dark Knight, The (2008)', 'Action|Crime|Drama|IMAX') 2.0\n",
      "('Good, the Bad and the Ugly, The (Buono, il brutto, il cattivo, Il) (1966)', 'Action|Adventure|Western') 1.9\n",
      "('Departed, The (2006)', 'Crime|Drama|Thriller') 1.9\n",
      "('Dark Knight Rises, The (2012)', 'Action|Adventure|Crime|IMAX') 1.9\n",
      "('Back to the Future (1985)', 'Adventure|Comedy|Sci-Fi') 1.9\n",
      "('Gravity (2013)', 'Action|Sci-Fi|IMAX') 1.8\n",
      "('Fight Club (1999)', 'Action|Crime|Drama|Thriller') 1.8\n"
     ]
    }
   ],
   "source": [
    "recommendations = user_based_model.get_top_n_recommendations(test_user, n=n)\n",
    "for movie_id, rate_sum in recommendations:\n",
    "        print(movie_meta(movie_id), rate_sum)"
   ]
  }
 ],
 "metadata": {
  "kernelspec": {
   "display_name": "Python 3",
   "language": "python",
   "name": "python3"
  },
  "language_info": {
   "codemirror_mode": {
    "name": "ipython",
    "version": 3
   },
   "file_extension": ".py",
   "mimetype": "text/x-python",
   "name": "python",
   "nbconvert_exporter": "python",
   "pygments_lexer": "ipython3",
   "version": "3.6.6"
  }
 },
 "nbformat": 4,
 "nbformat_minor": 2
}
