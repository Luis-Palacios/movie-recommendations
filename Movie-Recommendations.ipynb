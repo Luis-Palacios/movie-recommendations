{
 "cells": [
  {
   "cell_type": "markdown",
   "metadata": {},
   "source": [
    "# Recommendation system for movies"
   ]
  },
  {
   "cell_type": "code",
   "execution_count": 1,
   "metadata": {},
   "outputs": [],
   "source": [
    "# Activate auto reload features\n",
    "\n",
    "%load_ext autoreload\n",
    "%autoreload 2\n"
   ]
  },
  {
   "cell_type": "markdown",
   "metadata": {},
   "source": [
    "## 1. Prepare data"
   ]
  },
  {
   "cell_type": "code",
   "execution_count": 2,
   "metadata": {},
   "outputs": [],
   "source": [
    "import pandas as pd\n",
    "import os"
   ]
  },
  {
   "cell_type": "markdown",
   "metadata": {},
   "source": [
    "### Load the csv rating data"
   ]
  },
  {
   "cell_type": "code",
   "execution_count": 3,
   "metadata": {},
   "outputs": [],
   "source": [
    "DATA_DIRECTORY = 'data'\n",
    "CSV_PATH = os.path.join(DATA_DIRECTORY, 'ratings.csv')\n",
    "rating_data = pd.read_csv(CSV_PATH)"
   ]
  },
  {
   "cell_type": "markdown",
   "metadata": {},
   "source": [
    "### Preview the data"
   ]
  },
  {
   "cell_type": "code",
   "execution_count": 4,
   "metadata": {},
   "outputs": [
    {
     "data": {
      "text/html": [
       "<div>\n",
       "<style scoped>\n",
       "    .dataframe tbody tr th:only-of-type {\n",
       "        vertical-align: middle;\n",
       "    }\n",
       "\n",
       "    .dataframe tbody tr th {\n",
       "        vertical-align: top;\n",
       "    }\n",
       "\n",
       "    .dataframe thead th {\n",
       "        text-align: right;\n",
       "    }\n",
       "</style>\n",
       "<table border=\"1\" class=\"dataframe\">\n",
       "  <thead>\n",
       "    <tr style=\"text-align: right;\">\n",
       "      <th></th>\n",
       "      <th>userId</th>\n",
       "      <th>movieId</th>\n",
       "      <th>rating</th>\n",
       "      <th>timestamp</th>\n",
       "    </tr>\n",
       "  </thead>\n",
       "  <tbody>\n",
       "    <tr>\n",
       "      <th>0</th>\n",
       "      <td>1</td>\n",
       "      <td>31</td>\n",
       "      <td>2.5</td>\n",
       "      <td>1260759144</td>\n",
       "    </tr>\n",
       "    <tr>\n",
       "      <th>1</th>\n",
       "      <td>1</td>\n",
       "      <td>1029</td>\n",
       "      <td>3.0</td>\n",
       "      <td>1260759179</td>\n",
       "    </tr>\n",
       "    <tr>\n",
       "      <th>2</th>\n",
       "      <td>1</td>\n",
       "      <td>1061</td>\n",
       "      <td>3.0</td>\n",
       "      <td>1260759182</td>\n",
       "    </tr>\n",
       "    <tr>\n",
       "      <th>3</th>\n",
       "      <td>1</td>\n",
       "      <td>1129</td>\n",
       "      <td>2.0</td>\n",
       "      <td>1260759185</td>\n",
       "    </tr>\n",
       "    <tr>\n",
       "      <th>4</th>\n",
       "      <td>1</td>\n",
       "      <td>1172</td>\n",
       "      <td>4.0</td>\n",
       "      <td>1260759205</td>\n",
       "    </tr>\n",
       "  </tbody>\n",
       "</table>\n",
       "</div>"
      ],
      "text/plain": [
       "   userId  movieId  rating   timestamp\n",
       "0       1       31     2.5  1260759144\n",
       "1       1     1029     3.0  1260759179\n",
       "2       1     1061     3.0  1260759182\n",
       "3       1     1129     2.0  1260759185\n",
       "4       1     1172     4.0  1260759205"
      ]
     },
     "execution_count": 4,
     "metadata": {},
     "output_type": "execute_result"
    }
   ],
   "source": [
    "rating_data.head()"
   ]
  },
  {
   "cell_type": "code",
   "execution_count": 5,
   "metadata": {},
   "outputs": [
    {
     "name": "stdout",
     "output_type": "stream",
     "text": [
      "<class 'pandas.core.frame.DataFrame'>\n",
      "RangeIndex: 100004 entries, 0 to 100003\n",
      "Data columns (total 4 columns):\n",
      "userId       100004 non-null int64\n",
      "movieId      100004 non-null int64\n",
      "rating       100004 non-null float64\n",
      "timestamp    100004 non-null int64\n",
      "dtypes: float64(1), int64(3)\n",
      "memory usage: 3.1 MB\n"
     ]
    }
   ],
   "source": [
    "rating_data.info()"
   ]
  },
  {
   "cell_type": "markdown",
   "metadata": {},
   "source": [
    "### Here you will work on preparing the data"
   ]
  },
  {
   "cell_type": "markdown",
   "metadata": {},
   "source": [
    "#### For example:\n",
    "1. Check for invalid values such as nulls, NaNs.\n",
    "2. Decide what to do with any invalid value them, Delete them? fill them with something as the mean value?\n",
    "3. Transform data in anyway needed"
   ]
  },
  {
   "cell_type": "code",
   "execution_count": 6,
   "metadata": {},
   "outputs": [],
   "source": [
    "# Drop timestamp column\n",
    "rating_data = rating_data.drop(columns=['timestamp', ])"
   ]
  },
  {
   "cell_type": "markdown",
   "metadata": {},
   "source": [
    "### Examine data"
   ]
  },
  {
   "cell_type": "markdown",
   "metadata": {},
   "source": [
    "#### How many records?"
   ]
  },
  {
   "cell_type": "code",
   "execution_count": 7,
   "metadata": {},
   "outputs": [
    {
     "data": {
      "text/plain": [
       "100004"
      ]
     },
     "execution_count": 7,
     "metadata": {},
     "output_type": "execute_result"
    }
   ],
   "source": [
    "len(rating_data)"
   ]
  },
  {
   "cell_type": "markdown",
   "metadata": {},
   "source": [
    "#### How many unique users are there?"
   ]
  },
  {
   "cell_type": "code",
   "execution_count": 8,
   "metadata": {},
   "outputs": [
    {
     "data": {
      "text/plain": [
       "671"
      ]
     },
     "execution_count": 8,
     "metadata": {},
     "output_type": "execute_result"
    }
   ],
   "source": [
    "len(pd.unique(rating_data['userId']))"
   ]
  },
  {
   "cell_type": "markdown",
   "metadata": {},
   "source": [
    "#### How many unique movies are there?"
   ]
  },
  {
   "cell_type": "code",
   "execution_count": 9,
   "metadata": {},
   "outputs": [
    {
     "data": {
      "text/plain": [
       "9066"
      ]
     },
     "execution_count": 9,
     "metadata": {},
     "output_type": "execute_result"
    }
   ],
   "source": [
    "len(pd.unique(rating_data['movieId']))"
   ]
  },
  {
   "cell_type": "markdown",
   "metadata": {},
   "source": [
    "### Load the CSV Movie Metadata"
   ]
  },
  {
   "cell_type": "code",
   "execution_count": 10,
   "metadata": {},
   "outputs": [],
   "source": [
    "CSV_META_PATH = os.path.join(DATA_DIRECTORY, 'movies.csv')\n",
    "metadata = pd.read_csv(CSV_META_PATH, index_col=0)"
   ]
  },
  {
   "cell_type": "markdown",
   "metadata": {},
   "source": [
    "#### Preview Movie Metada"
   ]
  },
  {
   "cell_type": "code",
   "execution_count": 11,
   "metadata": {},
   "outputs": [
    {
     "data": {
      "text/html": [
       "<div>\n",
       "<style scoped>\n",
       "    .dataframe tbody tr th:only-of-type {\n",
       "        vertical-align: middle;\n",
       "    }\n",
       "\n",
       "    .dataframe tbody tr th {\n",
       "        vertical-align: top;\n",
       "    }\n",
       "\n",
       "    .dataframe thead th {\n",
       "        text-align: right;\n",
       "    }\n",
       "</style>\n",
       "<table border=\"1\" class=\"dataframe\">\n",
       "  <thead>\n",
       "    <tr style=\"text-align: right;\">\n",
       "      <th></th>\n",
       "      <th>title</th>\n",
       "      <th>genres</th>\n",
       "    </tr>\n",
       "    <tr>\n",
       "      <th>movieId</th>\n",
       "      <th></th>\n",
       "      <th></th>\n",
       "    </tr>\n",
       "  </thead>\n",
       "  <tbody>\n",
       "    <tr>\n",
       "      <th>1</th>\n",
       "      <td>Toy Story (1995)</td>\n",
       "      <td>Adventure|Animation|Children|Comedy|Fantasy</td>\n",
       "    </tr>\n",
       "    <tr>\n",
       "      <th>2</th>\n",
       "      <td>Jumanji (1995)</td>\n",
       "      <td>Adventure|Children|Fantasy</td>\n",
       "    </tr>\n",
       "    <tr>\n",
       "      <th>3</th>\n",
       "      <td>Grumpier Old Men (1995)</td>\n",
       "      <td>Comedy|Romance</td>\n",
       "    </tr>\n",
       "    <tr>\n",
       "      <th>4</th>\n",
       "      <td>Waiting to Exhale (1995)</td>\n",
       "      <td>Comedy|Drama|Romance</td>\n",
       "    </tr>\n",
       "    <tr>\n",
       "      <th>5</th>\n",
       "      <td>Father of the Bride Part II (1995)</td>\n",
       "      <td>Comedy</td>\n",
       "    </tr>\n",
       "  </tbody>\n",
       "</table>\n",
       "</div>"
      ],
      "text/plain": [
       "                                      title  \\\n",
       "movieId                                       \n",
       "1                          Toy Story (1995)   \n",
       "2                            Jumanji (1995)   \n",
       "3                   Grumpier Old Men (1995)   \n",
       "4                  Waiting to Exhale (1995)   \n",
       "5        Father of the Bride Part II (1995)   \n",
       "\n",
       "                                              genres  \n",
       "movieId                                               \n",
       "1        Adventure|Animation|Children|Comedy|Fantasy  \n",
       "2                         Adventure|Children|Fantasy  \n",
       "3                                     Comedy|Romance  \n",
       "4                               Comedy|Drama|Romance  \n",
       "5                                             Comedy  "
      ]
     },
     "execution_count": 11,
     "metadata": {},
     "output_type": "execute_result"
    }
   ],
   "source": [
    "metadata.head()"
   ]
  },
  {
   "cell_type": "code",
   "execution_count": 12,
   "metadata": {},
   "outputs": [
    {
     "name": "stdout",
     "output_type": "stream",
     "text": [
      "<class 'pandas.core.frame.DataFrame'>\n",
      "Int64Index: 9125 entries, 1 to 164979\n",
      "Data columns (total 2 columns):\n",
      "title     9125 non-null object\n",
      "genres    9125 non-null object\n",
      "dtypes: object(2)\n",
      "memory usage: 213.9+ KB\n"
     ]
    }
   ],
   "source": [
    "metadata.info()"
   ]
  },
  {
   "cell_type": "markdown",
   "metadata": {},
   "source": [
    "### Function to extract movie metadata"
   ]
  },
  {
   "cell_type": "code",
   "execution_count": 13,
   "metadata": {},
   "outputs": [],
   "source": [
    "def movie_meta(movie_id):\n",
    "    title = metadata.at[movie_id, 'title']\n",
    "    genres = metadata.at[movie_id, 'genres']\n",
    "    return title, genres,"
   ]
  },
  {
   "cell_type": "code",
   "execution_count": 14,
   "metadata": {},
   "outputs": [
    {
     "data": {
      "text/plain": [
       "('Jumanji (1995)', 'Adventure|Children|Fantasy')"
      ]
     },
     "execution_count": 14,
     "metadata": {},
     "output_type": "execute_result"
    }
   ],
   "source": [
    "movie_meta(2)"
   ]
  },
  {
   "cell_type": "markdown",
   "metadata": {},
   "source": [
    "#### Function to get top_n most rated skills for an specific user id"
   ]
  },
  {
   "cell_type": "code",
   "execution_count": 15,
   "metadata": {},
   "outputs": [],
   "source": [
    "def favorite_movies(user_id, top_n_fav):\n",
    "    user_ratings = rating_data.loc[rating_data['userId'] == user_id]\n",
    "    sorted_ratings = pd.DataFrame.sort_values(user_ratings, ['rating'], ascending=[0])[:top_n_fav]\n",
    "    sorted_ratings['MetaData'] = sorted_ratings['movieId'].apply(movie_meta)\n",
    "    return sorted_ratings"
   ]
  },
  {
   "cell_type": "code",
   "execution_count": 16,
   "metadata": {},
   "outputs": [
    {
     "data": {
      "text/html": [
       "<div>\n",
       "<style scoped>\n",
       "    .dataframe tbody tr th:only-of-type {\n",
       "        vertical-align: middle;\n",
       "    }\n",
       "\n",
       "    .dataframe tbody tr th {\n",
       "        vertical-align: top;\n",
       "    }\n",
       "\n",
       "    .dataframe thead th {\n",
       "        text-align: right;\n",
       "    }\n",
       "</style>\n",
       "<table border=\"1\" class=\"dataframe\">\n",
       "  <thead>\n",
       "    <tr style=\"text-align: right;\">\n",
       "      <th></th>\n",
       "      <th>userId</th>\n",
       "      <th>movieId</th>\n",
       "      <th>rating</th>\n",
       "      <th>MetaData</th>\n",
       "    </tr>\n",
       "  </thead>\n",
       "  <tbody>\n",
       "    <tr>\n",
       "      <th>13184</th>\n",
       "      <td>85</td>\n",
       "      <td>2</td>\n",
       "      <td>5.0</td>\n",
       "      <td>(Jumanji (1995), Adventure|Children|Fantasy)</td>\n",
       "    </tr>\n",
       "    <tr>\n",
       "      <th>13217</th>\n",
       "      <td>85</td>\n",
       "      <td>255</td>\n",
       "      <td>5.0</td>\n",
       "      <td>(Jerky Boys, The (1995), Comedy)</td>\n",
       "    </tr>\n",
       "    <tr>\n",
       "      <th>13287</th>\n",
       "      <td>85</td>\n",
       "      <td>648</td>\n",
       "      <td>5.0</td>\n",
       "      <td>(Mission: Impossible (1996), Action|Adventure|...</td>\n",
       "    </tr>\n",
       "    <tr>\n",
       "      <th>13278</th>\n",
       "      <td>85</td>\n",
       "      <td>589</td>\n",
       "      <td>5.0</td>\n",
       "      <td>(Terminator 2: Judgment Day (1991), Action|Sci...</td>\n",
       "    </tr>\n",
       "    <tr>\n",
       "      <th>13262</th>\n",
       "      <td>85</td>\n",
       "      <td>480</td>\n",
       "      <td>5.0</td>\n",
       "      <td>(Jurassic Park (1993), Action|Adventure|Sci-Fi...</td>\n",
       "    </tr>\n",
       "  </tbody>\n",
       "</table>\n",
       "</div>"
      ],
      "text/plain": [
       "       userId  movieId  rating  \\\n",
       "13184      85        2     5.0   \n",
       "13217      85      255     5.0   \n",
       "13287      85      648     5.0   \n",
       "13278      85      589     5.0   \n",
       "13262      85      480     5.0   \n",
       "\n",
       "                                                MetaData  \n",
       "13184       (Jumanji (1995), Adventure|Children|Fantasy)  \n",
       "13217                   (Jerky Boys, The (1995), Comedy)  \n",
       "13287  (Mission: Impossible (1996), Action|Adventure|...  \n",
       "13278  (Terminator 2: Judgment Day (1991), Action|Sci...  \n",
       "13262  (Jurassic Park (1993), Action|Adventure|Sci-Fi...  "
      ]
     },
     "execution_count": 16,
     "metadata": {},
     "output_type": "execute_result"
    }
   ],
   "source": [
    "favorite_movies(85, 5)"
   ]
  },
  {
   "cell_type": "markdown",
   "metadata": {},
   "source": [
    "####  Most rated movies by user (Rate count)"
   ]
  },
  {
   "cell_type": "code",
   "execution_count": 17,
   "metadata": {},
   "outputs": [
    {
     "data": {
      "text/plain": [
       "(Forrest Gump (1994), Comedy|Drama|Romance|War)                                                       341\n",
       "(Pulp Fiction (1994), Comedy|Crime|Drama|Thriller)                                                    324\n",
       "(Shawshank Redemption, The (1994), Crime|Drama)                                                       311\n",
       "(Silence of the Lambs, The (1991), Crime|Horror|Thriller)                                             304\n",
       "(Star Wars: Episode IV - A New Hope (1977), Action|Adventure|Sci-Fi)                                  291\n",
       "(Jurassic Park (1993), Action|Adventure|Sci-Fi|Thriller)                                              274\n",
       "(Matrix, The (1999), Action|Sci-Fi|Thriller)                                                          259\n",
       "(Toy Story (1995), Adventure|Animation|Children|Comedy|Fantasy)                                       247\n",
       "(Schindler's List (1993), Drama|War)                                                                  244\n",
       "(Terminator 2: Judgment Day (1991), Action|Sci-Fi)                                                    237\n",
       "(Star Wars: Episode V - The Empire Strikes Back (1980), Action|Adventure|Sci-Fi)                      234\n",
       "(Braveheart (1995), Action|Drama|War)                                                                 228\n",
       "(Back to the Future (1985), Adventure|Comedy|Sci-Fi)                                                  226\n",
       "(Fargo (1996), Comedy|Crime|Drama|Thriller)                                                           224\n",
       "(Raiders of the Lost Ark (Indiana Jones and the Raiders of the Lost Ark) (1981), Action|Adventure)    220\n",
       "(American Beauty (1999), Drama|Romance)                                                               220\n",
       "(Independence Day (a.k.a. ID4) (1996), Action|Adventure|Sci-Fi|Thriller)                              218\n",
       "(Star Wars: Episode VI - Return of the Jedi (1983), Action|Adventure|Sci-Fi)                          217\n",
       "(Aladdin (1992), Adventure|Animation|Children|Comedy|Musical)                                         215\n",
       "(Fugitive, The (1993), Thriller)                                                                      213\n",
       "Name: movieId, dtype: int64"
      ]
     },
     "execution_count": 17,
     "metadata": {},
     "output_type": "execute_result"
    }
   ],
   "source": [
    "movies_per_user = rating_data['movieId'].value_counts()\n",
    "# Just for preview the name instead of the Skill Id\n",
    "rating_data['movieId'].apply(movie_meta).value_counts().head(20)"
   ]
  },
  {
   "cell_type": "markdown",
   "metadata": {},
   "source": [
    "#### Users that has rated more movies"
   ]
  },
  {
   "cell_type": "code",
   "execution_count": 18,
   "metadata": {},
   "outputs": [
    {
     "data": {
      "text/plain": [
       "547    2391\n",
       "564    1868\n",
       "624    1735\n",
       "15     1700\n",
       "73     1610\n",
       "452    1340\n",
       "468    1291\n",
       "380    1063\n",
       "311    1019\n",
       "30     1011\n",
       "294     947\n",
       "509     923\n",
       "580     922\n",
       "213     910\n",
       "212     876\n",
       "Name: userId, dtype: int64"
      ]
     },
     "execution_count": 18,
     "metadata": {},
     "output_type": "execute_result"
    }
   ],
   "source": [
    "user_per_movie = rating_data['userId'].value_counts()\n",
    "user_per_movie.head(15)"
   ]
  },
  {
   "cell_type": "markdown",
   "metadata": {},
   "source": [
    "#### Optional: Consider cleaning the data by removing users or movies that does not have much rate data"
   ]
  },
  {
   "cell_type": "code",
   "execution_count": 19,
   "metadata": {},
   "outputs": [],
   "source": [
    "REQUIRED_RATINGS = 3\n",
    "# Only Skills that have been rated more than REQUIRED_RATING times\n",
    "rating_data = rating_data.loc[rating_data['movieId'].isin(movies_per_user[movies_per_user >= REQUIRED_RATINGS].index)]"
   ]
  },
  {
   "cell_type": "code",
   "execution_count": 20,
   "metadata": {},
   "outputs": [],
   "source": [
    "rating_data = rating_data.loc[rating_data['userId'].isin(user_per_movie[user_per_movie >= REQUIRED_RATINGS].index)]"
   ]
  },
  {
   "cell_type": "markdown",
   "metadata": {},
   "source": [
    "## 2. Optional try it with yourself"
   ]
  },
  {
   "cell_type": "markdown",
   "metadata": {},
   "source": [
    "### What movies do you like?"
   ]
  },
  {
   "cell_type": "code",
   "execution_count": 21,
   "metadata": {},
   "outputs": [
    {
     "data": {
      "text/html": [
       "<div>\n",
       "<style scoped>\n",
       "    .dataframe tbody tr th:only-of-type {\n",
       "        vertical-align: middle;\n",
       "    }\n",
       "\n",
       "    .dataframe tbody tr th {\n",
       "        vertical-align: top;\n",
       "    }\n",
       "\n",
       "    .dataframe thead th {\n",
       "        text-align: right;\n",
       "    }\n",
       "</style>\n",
       "<table border=\"1\" class=\"dataframe\">\n",
       "  <thead>\n",
       "    <tr style=\"text-align: right;\">\n",
       "      <th></th>\n",
       "      <th>title</th>\n",
       "      <th>genres</th>\n",
       "    </tr>\n",
       "    <tr>\n",
       "      <th>movieId</th>\n",
       "      <th></th>\n",
       "      <th></th>\n",
       "    </tr>\n",
       "  </thead>\n",
       "  <tbody>\n",
       "    <tr>\n",
       "      <th>2324</th>\n",
       "      <td>Life Is Beautiful (La Vita è bella) (1997)</td>\n",
       "      <td>Comedy|Drama|Romance|War</td>\n",
       "    </tr>\n",
       "    <tr>\n",
       "      <th>32943</th>\n",
       "      <td>Life Is Sweet (1990)</td>\n",
       "      <td>Comedy|Drama</td>\n",
       "    </tr>\n",
       "    <tr>\n",
       "      <th>130970</th>\n",
       "      <td>George Carlin: Life Is Worth Losing (2005)</td>\n",
       "      <td>Comedy</td>\n",
       "    </tr>\n",
       "    <tr>\n",
       "      <th>155611</th>\n",
       "      <td>Life Is Sacred (2014)</td>\n",
       "      <td>Documentary</td>\n",
       "    </tr>\n",
       "  </tbody>\n",
       "</table>\n",
       "</div>"
      ],
      "text/plain": [
       "                                              title                    genres\n",
       "movieId                                                                      \n",
       "2324     Life Is Beautiful (La Vita è bella) (1997)  Comedy|Drama|Romance|War\n",
       "32943                          Life Is Sweet (1990)              Comedy|Drama\n",
       "130970   George Carlin: Life Is Worth Losing (2005)                    Comedy\n",
       "155611                        Life Is Sacred (2014)               Documentary"
      ]
     },
     "execution_count": 21,
     "metadata": {},
     "output_type": "execute_result"
    }
   ],
   "source": [
    "metadata.loc[metadata['title'].str.contains('Life Is')]"
   ]
  },
  {
   "cell_type": "code",
   "execution_count": 22,
   "metadata": {},
   "outputs": [],
   "source": [
    "newdata = pd.DataFrame([[700, 260, 3], [700, 1196, 5],\n",
    "                       [700, 1210, 4], [700, 2628, 4],\n",
    "                       [700, 2324, 5], [700, 98124, 4],\n",
    "                       [700, 99813, 5], [700, 33794, 4],\n",
    "                       [700, 115617, 5], [700, 134853, 4],\n",
    "                       [700, 5349, 5], [700, 8636, 4],\n",
    "                       [700, 2028, 5], [700, 61132, 4],\n",
    "                       [700, 68954, 5], [700, 60069, 5],\n",
    "                       [700, 788, 1], [700, 8961, 3],\n",
    "                       [700, 30749, 4], [700, 97225, 4],\n",
    "                       [700, 4306, 3], [700, 45666, 5],\n",
    "                       [700, 4816, 4], [700, 4995, 5],\n",
    "                       [700, 109487, 5], [700, 64695, 5]], columns=['userId', 'movieId', 'rating'])"
   ]
  },
  {
   "cell_type": "code",
   "execution_count": 23,
   "metadata": {},
   "outputs": [
    {
     "data": {
      "text/html": [
       "<div>\n",
       "<style scoped>\n",
       "    .dataframe tbody tr th:only-of-type {\n",
       "        vertical-align: middle;\n",
       "    }\n",
       "\n",
       "    .dataframe tbody tr th {\n",
       "        vertical-align: top;\n",
       "    }\n",
       "\n",
       "    .dataframe thead th {\n",
       "        text-align: right;\n",
       "    }\n",
       "</style>\n",
       "<table border=\"1\" class=\"dataframe\">\n",
       "  <thead>\n",
       "    <tr style=\"text-align: right;\">\n",
       "      <th></th>\n",
       "      <th>userId</th>\n",
       "      <th>movieId</th>\n",
       "      <th>rating</th>\n",
       "    </tr>\n",
       "  </thead>\n",
       "  <tbody>\n",
       "    <tr>\n",
       "      <th>94558</th>\n",
       "      <td>700</td>\n",
       "      <td>45666</td>\n",
       "      <td>5.0</td>\n",
       "    </tr>\n",
       "    <tr>\n",
       "      <th>94559</th>\n",
       "      <td>700</td>\n",
       "      <td>4816</td>\n",
       "      <td>4.0</td>\n",
       "    </tr>\n",
       "    <tr>\n",
       "      <th>94560</th>\n",
       "      <td>700</td>\n",
       "      <td>4995</td>\n",
       "      <td>5.0</td>\n",
       "    </tr>\n",
       "    <tr>\n",
       "      <th>94561</th>\n",
       "      <td>700</td>\n",
       "      <td>109487</td>\n",
       "      <td>5.0</td>\n",
       "    </tr>\n",
       "    <tr>\n",
       "      <th>94562</th>\n",
       "      <td>700</td>\n",
       "      <td>64695</td>\n",
       "      <td>5.0</td>\n",
       "    </tr>\n",
       "  </tbody>\n",
       "</table>\n",
       "</div>"
      ],
      "text/plain": [
       "       userId  movieId  rating\n",
       "94558     700    45666     5.0\n",
       "94559     700     4816     4.0\n",
       "94560     700     4995     5.0\n",
       "94561     700   109487     5.0\n",
       "94562     700    64695     5.0"
      ]
     },
     "execution_count": 23,
     "metadata": {},
     "output_type": "execute_result"
    }
   ],
   "source": [
    "rating_data = rating_data.append(newdata, ignore_index=True)\n",
    "rating_data.tail()"
   ]
  },
  {
   "cell_type": "markdown",
   "metadata": {},
   "source": [
    "## 3. Train model with rating data"
   ]
  },
  {
   "cell_type": "code",
   "execution_count": 24,
   "metadata": {},
   "outputs": [],
   "source": [
    "from surprise import Reader, Dataset\n",
    "\n",
    "reader = Reader()\n",
    "rating_dataset = Dataset.load_from_df(rating_data, reader=reader)\n",
    "train_set = rating_dataset.build_full_trainset()"
   ]
  },
  {
   "cell_type": "code",
   "execution_count": 25,
   "metadata": {},
   "outputs": [],
   "source": [
    "from models import KnnUB, KnnIB, SVDRecommender\n",
    "\n",
    "user_based_model = KnnUB()\n",
    "movies_based_model = KnnIB()\n",
    "svd_based_model = SVDRecommender()"
   ]
  },
  {
   "cell_type": "code",
   "execution_count": 26,
   "metadata": {},
   "outputs": [
    {
     "name": "stdout",
     "output_type": "stream",
     "text": [
      "Computing the cosine similarity matrix...\n",
      "Done computing similarity matrix.\n"
     ]
    },
    {
     "data": {
      "text/plain": [
       "<models.KnnUB at 0x250ab78bc50>"
      ]
     },
     "execution_count": 26,
     "metadata": {},
     "output_type": "execute_result"
    }
   ],
   "source": [
    "user_based_model.fit(train_set)"
   ]
  },
  {
   "cell_type": "code",
   "execution_count": 27,
   "metadata": {},
   "outputs": [
    {
     "name": "stdout",
     "output_type": "stream",
     "text": [
      "Computing the cosine similarity matrix...\n",
      "Done computing similarity matrix.\n"
     ]
    },
    {
     "data": {
      "text/plain": [
       "<models.KnnIB at 0x250aa8ff588>"
      ]
     },
     "execution_count": 27,
     "metadata": {},
     "output_type": "execute_result"
    }
   ],
   "source": [
    "movies_based_model.fit(train_set)"
   ]
  },
  {
   "cell_type": "code",
   "execution_count": 28,
   "metadata": {},
   "outputs": [
    {
     "data": {
      "text/plain": [
       "<models.SVDRecommender at 0x250ab3b8780>"
      ]
     },
     "execution_count": 28,
     "metadata": {},
     "output_type": "execute_result"
    }
   ],
   "source": [
    "svd_based_model.fit(train_set)"
   ]
  },
  {
   "cell_type": "markdown",
   "metadata": {},
   "source": [
    "## 3. Test Model Recommendations"
   ]
  },
  {
   "cell_type": "code",
   "execution_count": 29,
   "metadata": {},
   "outputs": [
    {
     "data": {
      "text/html": [
       "<div>\n",
       "<style scoped>\n",
       "    .dataframe tbody tr th:only-of-type {\n",
       "        vertical-align: middle;\n",
       "    }\n",
       "\n",
       "    .dataframe tbody tr th {\n",
       "        vertical-align: top;\n",
       "    }\n",
       "\n",
       "    .dataframe thead th {\n",
       "        text-align: right;\n",
       "    }\n",
       "</style>\n",
       "<table border=\"1\" class=\"dataframe\">\n",
       "  <thead>\n",
       "    <tr style=\"text-align: right;\">\n",
       "      <th></th>\n",
       "      <th>userId</th>\n",
       "      <th>movieId</th>\n",
       "      <th>rating</th>\n",
       "      <th>MetaData</th>\n",
       "    </tr>\n",
       "  </thead>\n",
       "  <tbody>\n",
       "    <tr>\n",
       "      <th>94562</th>\n",
       "      <td>700</td>\n",
       "      <td>64695</td>\n",
       "      <td>5.0</td>\n",
       "      <td>(Sword of the Stranger (Sutorejia: Mukô hadan)...</td>\n",
       "    </tr>\n",
       "    <tr>\n",
       "      <th>94552</th>\n",
       "      <td>700</td>\n",
       "      <td>60069</td>\n",
       "      <td>5.0</td>\n",
       "      <td>(WALL·E (2008), Adventure|Animation|Children|R...</td>\n",
       "    </tr>\n",
       "    <tr>\n",
       "      <th>94561</th>\n",
       "      <td>700</td>\n",
       "      <td>109487</td>\n",
       "      <td>5.0</td>\n",
       "      <td>(Interstellar (2014), Sci-Fi|IMAX)</td>\n",
       "    </tr>\n",
       "    <tr>\n",
       "      <th>94560</th>\n",
       "      <td>700</td>\n",
       "      <td>4995</td>\n",
       "      <td>5.0</td>\n",
       "      <td>(Beautiful Mind, A (2001), Drama|Romance)</td>\n",
       "    </tr>\n",
       "    <tr>\n",
       "      <th>94541</th>\n",
       "      <td>700</td>\n",
       "      <td>2324</td>\n",
       "      <td>5.0</td>\n",
       "      <td>(Life Is Beautiful (La Vita è bella) (1997), C...</td>\n",
       "    </tr>\n",
       "    <tr>\n",
       "      <th>94543</th>\n",
       "      <td>700</td>\n",
       "      <td>99813</td>\n",
       "      <td>5.0</td>\n",
       "      <td>(Batman: The Dark Knight Returns, Part 2 (2013...</td>\n",
       "    </tr>\n",
       "    <tr>\n",
       "      <th>94558</th>\n",
       "      <td>700</td>\n",
       "      <td>45666</td>\n",
       "      <td>5.0</td>\n",
       "      <td>(Nacho Libre (2006), Comedy)</td>\n",
       "    </tr>\n",
       "    <tr>\n",
       "      <th>94545</th>\n",
       "      <td>700</td>\n",
       "      <td>115617</td>\n",
       "      <td>5.0</td>\n",
       "      <td>(Big Hero 6 (2014), Action|Animation|Comedy)</td>\n",
       "    </tr>\n",
       "    <tr>\n",
       "      <th>94547</th>\n",
       "      <td>700</td>\n",
       "      <td>5349</td>\n",
       "      <td>5.0</td>\n",
       "      <td>(Spider-Man (2002), Action|Adventure|Sci-Fi|Th...</td>\n",
       "    </tr>\n",
       "    <tr>\n",
       "      <th>94549</th>\n",
       "      <td>700</td>\n",
       "      <td>2028</td>\n",
       "      <td>5.0</td>\n",
       "      <td>(Saving Private Ryan (1998), Action|Drama|War)</td>\n",
       "    </tr>\n",
       "    <tr>\n",
       "      <th>94538</th>\n",
       "      <td>700</td>\n",
       "      <td>1196</td>\n",
       "      <td>5.0</td>\n",
       "      <td>(Star Wars: Episode V - The Empire Strikes Bac...</td>\n",
       "    </tr>\n",
       "    <tr>\n",
       "      <th>94551</th>\n",
       "      <td>700</td>\n",
       "      <td>68954</td>\n",
       "      <td>5.0</td>\n",
       "      <td>(Up (2009), Adventure|Animation|Children|Drama)</td>\n",
       "    </tr>\n",
       "    <tr>\n",
       "      <th>94559</th>\n",
       "      <td>700</td>\n",
       "      <td>4816</td>\n",
       "      <td>4.0</td>\n",
       "      <td>(Zoolander (2001), Comedy)</td>\n",
       "    </tr>\n",
       "    <tr>\n",
       "      <th>94556</th>\n",
       "      <td>700</td>\n",
       "      <td>97225</td>\n",
       "      <td>4.0</td>\n",
       "      <td>(Hotel Transylvania (2012), Animation|Children...</td>\n",
       "    </tr>\n",
       "    <tr>\n",
       "      <th>94555</th>\n",
       "      <td>700</td>\n",
       "      <td>30749</td>\n",
       "      <td>4.0</td>\n",
       "      <td>(Hotel Rwanda (2004), Drama|War)</td>\n",
       "    </tr>\n",
       "    <tr>\n",
       "      <th>94550</th>\n",
       "      <td>700</td>\n",
       "      <td>61132</td>\n",
       "      <td>4.0</td>\n",
       "      <td>(Tropic Thunder (2008), Action|Adventure|Comed...</td>\n",
       "    </tr>\n",
       "    <tr>\n",
       "      <th>94548</th>\n",
       "      <td>700</td>\n",
       "      <td>8636</td>\n",
       "      <td>4.0</td>\n",
       "      <td>(Spider-Man 2 (2004), Action|Adventure|Sci-Fi|...</td>\n",
       "    </tr>\n",
       "    <tr>\n",
       "      <th>94546</th>\n",
       "      <td>700</td>\n",
       "      <td>134853</td>\n",
       "      <td>4.0</td>\n",
       "      <td>(Inside Out (2015), Adventure|Animation|Childr...</td>\n",
       "    </tr>\n",
       "    <tr>\n",
       "      <th>94544</th>\n",
       "      <td>700</td>\n",
       "      <td>33794</td>\n",
       "      <td>4.0</td>\n",
       "      <td>(Batman Begins (2005), Action|Crime|IMAX)</td>\n",
       "    </tr>\n",
       "    <tr>\n",
       "      <th>94542</th>\n",
       "      <td>700</td>\n",
       "      <td>98124</td>\n",
       "      <td>4.0</td>\n",
       "      <td>(Batman: The Dark Knight Returns, Part 1 (2012...</td>\n",
       "    </tr>\n",
       "    <tr>\n",
       "      <th>94540</th>\n",
       "      <td>700</td>\n",
       "      <td>2628</td>\n",
       "      <td>4.0</td>\n",
       "      <td>(Star Wars: Episode I - The Phantom Menace (19...</td>\n",
       "    </tr>\n",
       "    <tr>\n",
       "      <th>94539</th>\n",
       "      <td>700</td>\n",
       "      <td>1210</td>\n",
       "      <td>4.0</td>\n",
       "      <td>(Star Wars: Episode VI - Return of the Jedi (1...</td>\n",
       "    </tr>\n",
       "    <tr>\n",
       "      <th>94554</th>\n",
       "      <td>700</td>\n",
       "      <td>8961</td>\n",
       "      <td>3.0</td>\n",
       "      <td>(Incredibles, The (2004), Action|Adventure|Ani...</td>\n",
       "    </tr>\n",
       "    <tr>\n",
       "      <th>94557</th>\n",
       "      <td>700</td>\n",
       "      <td>4306</td>\n",
       "      <td>3.0</td>\n",
       "      <td>(Shrek (2001), Adventure|Animation|Children|Co...</td>\n",
       "    </tr>\n",
       "    <tr>\n",
       "      <th>94537</th>\n",
       "      <td>700</td>\n",
       "      <td>260</td>\n",
       "      <td>3.0</td>\n",
       "      <td>(Star Wars: Episode IV - A New Hope (1977), Ac...</td>\n",
       "    </tr>\n",
       "    <tr>\n",
       "      <th>94553</th>\n",
       "      <td>700</td>\n",
       "      <td>788</td>\n",
       "      <td>1.0</td>\n",
       "      <td>(Nutty Professor, The (1996), Comedy|Fantasy|R...</td>\n",
       "    </tr>\n",
       "  </tbody>\n",
       "</table>\n",
       "</div>"
      ],
      "text/plain": [
       "       userId  movieId  rating  \\\n",
       "94562     700    64695     5.0   \n",
       "94552     700    60069     5.0   \n",
       "94561     700   109487     5.0   \n",
       "94560     700     4995     5.0   \n",
       "94541     700     2324     5.0   \n",
       "94543     700    99813     5.0   \n",
       "94558     700    45666     5.0   \n",
       "94545     700   115617     5.0   \n",
       "94547     700     5349     5.0   \n",
       "94549     700     2028     5.0   \n",
       "94538     700     1196     5.0   \n",
       "94551     700    68954     5.0   \n",
       "94559     700     4816     4.0   \n",
       "94556     700    97225     4.0   \n",
       "94555     700    30749     4.0   \n",
       "94550     700    61132     4.0   \n",
       "94548     700     8636     4.0   \n",
       "94546     700   134853     4.0   \n",
       "94544     700    33794     4.0   \n",
       "94542     700    98124     4.0   \n",
       "94540     700     2628     4.0   \n",
       "94539     700     1210     4.0   \n",
       "94554     700     8961     3.0   \n",
       "94557     700     4306     3.0   \n",
       "94537     700      260     3.0   \n",
       "94553     700      788     1.0   \n",
       "\n",
       "                                                MetaData  \n",
       "94562  (Sword of the Stranger (Sutorejia: Mukô hadan)...  \n",
       "94552  (WALL·E (2008), Adventure|Animation|Children|R...  \n",
       "94561                 (Interstellar (2014), Sci-Fi|IMAX)  \n",
       "94560          (Beautiful Mind, A (2001), Drama|Romance)  \n",
       "94541  (Life Is Beautiful (La Vita è bella) (1997), C...  \n",
       "94543  (Batman: The Dark Knight Returns, Part 2 (2013...  \n",
       "94558                       (Nacho Libre (2006), Comedy)  \n",
       "94545       (Big Hero 6 (2014), Action|Animation|Comedy)  \n",
       "94547  (Spider-Man (2002), Action|Adventure|Sci-Fi|Th...  \n",
       "94549     (Saving Private Ryan (1998), Action|Drama|War)  \n",
       "94538  (Star Wars: Episode V - The Empire Strikes Bac...  \n",
       "94551    (Up (2009), Adventure|Animation|Children|Drama)  \n",
       "94559                         (Zoolander (2001), Comedy)  \n",
       "94556  (Hotel Transylvania (2012), Animation|Children...  \n",
       "94555                   (Hotel Rwanda (2004), Drama|War)  \n",
       "94550  (Tropic Thunder (2008), Action|Adventure|Comed...  \n",
       "94548  (Spider-Man 2 (2004), Action|Adventure|Sci-Fi|...  \n",
       "94546  (Inside Out (2015), Adventure|Animation|Childr...  \n",
       "94544          (Batman Begins (2005), Action|Crime|IMAX)  \n",
       "94542  (Batman: The Dark Knight Returns, Part 1 (2012...  \n",
       "94540  (Star Wars: Episode I - The Phantom Menace (19...  \n",
       "94539  (Star Wars: Episode VI - Return of the Jedi (1...  \n",
       "94554  (Incredibles, The (2004), Action|Adventure|Ani...  \n",
       "94557  (Shrek (2001), Adventure|Animation|Children|Co...  \n",
       "94537  (Star Wars: Episode IV - A New Hope (1977), Ac...  \n",
       "94553  (Nutty Professor, The (1996), Comedy|Fantasy|R...  "
      ]
     },
     "execution_count": 29,
     "metadata": {},
     "output_type": "execute_result"
    }
   ],
   "source": [
    "n = 10\n",
    "test_user = 700\n",
    "favorite_movies(test_user, 30)"
   ]
  },
  {
   "cell_type": "markdown",
   "metadata": {},
   "source": [
    "### Test collaborative filtering based on user"
   ]
  },
  {
   "cell_type": "code",
   "execution_count": 30,
   "metadata": {},
   "outputs": [
    {
     "name": "stdout",
     "output_type": "stream",
     "text": [
      "('Toy Story (1995)', 'Adventure|Animation|Children|Comedy|Fantasy') 4.2\n",
      "('Fargo (1996)', 'Comedy|Crime|Drama|Thriller') 4.0\n",
      "(\"Schindler's List (1993)\", 'Drama|War') 3.5999999999999996\n",
      "('Twelve Monkeys (a.k.a. 12 Monkeys) (1995)', 'Mystery|Sci-Fi|Thriller') 3.2\n",
      "('Jurassic Park (1993)', 'Action|Adventure|Sci-Fi|Thriller') 3.0\n",
      "('Forrest Gump (1994)', 'Comedy|Drama|Romance|War') 2.8\n",
      "('Rock, The (1996)', 'Action|Adventure|Thriller') 2.8\n",
      "('Pulp Fiction (1994)', 'Comedy|Crime|Drama|Thriller') 2.7\n",
      "('Ransom (1996)', 'Crime|Thriller') 2.6\n",
      "('Clueless (1995)', 'Comedy|Romance') 2.6\n",
      "(\"Things to Do in Denver When You're Dead (1995)\", 'Crime|Drama|Romance') 2.6\n"
     ]
    }
   ],
   "source": [
    "recommendations = user_based_model.get_top_n_recommendations(test_user, n=n)\n",
    "for movie_id, rate_sum in recommendations:\n",
    "        print(movie_meta(movie_id), rate_sum)"
   ]
  },
  {
   "cell_type": "markdown",
   "metadata": {},
   "source": [
    "### Test collaborative filtering based on movies"
   ]
  },
  {
   "cell_type": "code",
   "execution_count": 31,
   "metadata": {},
   "outputs": [
    {
     "name": "stdout",
     "output_type": "stream",
     "text": [
      "('Judge, The (2014)', 'Drama') 9.944356441656772\n",
      "('Wimbledon (2004)', 'Comedy|Romance') 9.934491755444562\n",
      "('How to Train Your Dragon 2 (2014)', 'Action|Adventure|Animation') 9.892940264634786\n",
      "('World Trade Center (2006)', 'Drama') 9.876156435355753\n",
      "(\"Kiki's Delivery Service (Majo no takkyûbin) (1989)\", 'Adventure|Animation|Children|Drama|Fantasy') 9.875939879297228\n",
      "('Watch, The (2012)', 'Comedy|Sci-Fi') 9.87536537851153\n",
      "('Fury (2014)', 'Action|Drama|War') 9.874972783493208\n",
      "('Warrior (2011)', 'Drama') 9.872916337066046\n",
      "('Impossible, The (Imposible, Lo) (2012)', 'Drama|Thriller') 9.870377147524998\n",
      "('Spanglish (2004)', 'Comedy|Drama|Romance') 9.870040482511389\n",
      "('The Fault in Our Stars (2014)', 'Drama|Romance') 9.852833257721327\n"
     ]
    }
   ],
   "source": [
    "recommendations = movies_based_model.get_top_n_recommendations(test_user, n=n)\n",
    "for movie_id, rate_sum in recommendations:\n",
    "        print(movie_meta(movie_id), rate_sum)"
   ]
  },
  {
   "cell_type": "markdown",
   "metadata": {},
   "source": [
    "### Test matrix factorization model"
   ]
  },
  {
   "cell_type": "code",
   "execution_count": 32,
   "metadata": {},
   "outputs": [
    {
     "name": "stdout",
     "output_type": "stream",
     "text": [
      "('Fargo (1996)', 'Comedy|Crime|Drama|Thriller') 5\n",
      "('On the Waterfront (1954)', 'Crime|Drama') 4.975781122902713\n",
      "('Raging Bull (1980)', 'Drama') 4.935805798411434\n",
      "('Godfather, The (1972)', 'Crime|Drama') 4.9305419561151265\n",
      "('Pulp Fiction (1994)', 'Comedy|Crime|Drama|Thriller') 4.90567548720376\n",
      "('Maltese Falcon, The (1941)', 'Film-Noir|Mystery') 4.90506032591284\n",
      "('Usual Suspects, The (1995)', 'Crime|Mystery|Thriller') 4.894701141109956\n",
      "('Modern Times (1936)', 'Comedy|Drama|Romance') 4.883693608766647\n",
      "('12 Angry Men (1957)', 'Drama') 4.859791029413953\n",
      "('Casablanca (1942)', 'Drama|Romance') 4.857397982061263\n"
     ]
    }
   ],
   "source": [
    "recommendations = svd_based_model.get_top_n_recommendations(test_user, n=n)\n",
    "for movie_id, rate_sum in recommendations:\n",
    "        print(movie_meta(movie_id), rate_sum)"
   ]
  },
  {
   "cell_type": "markdown",
   "metadata": {},
   "source": [
    "### Save the models"
   ]
  },
  {
   "cell_type": "code",
   "execution_count": 33,
   "metadata": {},
   "outputs": [],
   "source": [
    "from surprise import dump\n",
    "\n",
    "dump.dump('user_based', algo=user_based_model)\n",
    "dump.dump('movie_based', algo=movies_based_model)\n",
    "dump.dump('svd_based', algo=svd_based_model)"
   ]
  },
  {
   "cell_type": "markdown",
   "metadata": {},
   "source": [
    "### Test saved model recommendations"
   ]
  },
  {
   "cell_type": "code",
   "execution_count": 34,
   "metadata": {},
   "outputs": [
    {
     "name": "stdout",
     "output_type": "stream",
     "text": [
      "('Toy Story (1995)', 'Adventure|Animation|Children|Comedy|Fantasy') 4.2\n",
      "('Fargo (1996)', 'Comedy|Crime|Drama|Thriller') 4.0\n",
      "(\"Schindler's List (1993)\", 'Drama|War') 3.5999999999999996\n",
      "('Twelve Monkeys (a.k.a. 12 Monkeys) (1995)', 'Mystery|Sci-Fi|Thriller') 3.2\n",
      "('Jurassic Park (1993)', 'Action|Adventure|Sci-Fi|Thriller') 3.0\n",
      "('Forrest Gump (1994)', 'Comedy|Drama|Romance|War') 2.8\n",
      "('Rock, The (1996)', 'Action|Adventure|Thriller') 2.8\n",
      "('Pulp Fiction (1994)', 'Comedy|Crime|Drama|Thriller') 2.7\n",
      "('Ransom (1996)', 'Crime|Thriller') 2.6\n",
      "('Clueless (1995)', 'Comedy|Romance') 2.6\n",
      "(\"Things to Do in Denver When You're Dead (1995)\", 'Crime|Drama|Romance') 2.6\n"
     ]
    }
   ],
   "source": [
    "_, loaded_model = dump.load('user_based')\n",
    "recommendations = loaded_model.get_top_n_recommendations(test_user, n=n)\n",
    "for movie_id, rate_sum in recommendations:\n",
    "        print(movie_meta(movie_id), rate_sum)"
   ]
  }
 ],
 "metadata": {
  "kernelspec": {
   "display_name": "Python 3",
   "language": "python",
   "name": "python3"
  },
  "language_info": {
   "codemirror_mode": {
    "name": "ipython",
    "version": 3
   },
   "file_extension": ".py",
   "mimetype": "text/x-python",
   "name": "python",
   "nbconvert_exporter": "python",
   "pygments_lexer": "ipython3",
   "version": "3.6.6"
  }
 },
 "nbformat": 4,
 "nbformat_minor": 2
}
